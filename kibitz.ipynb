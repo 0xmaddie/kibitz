{
  "nbformat": 4,
  "nbformat_minor": 0,
  "metadata": {
    "colab": {
      "name": "kibitz.ipynb",
      "private_outputs": true,
      "provenance": [],
      "collapsed_sections": []
    },
    "kernelspec": {
      "name": "python3",
      "display_name": "Python 3"
    },
    "language_info": {
      "name": "python"
    },
    "gpuClass": "standard"
  },
  "cells": [
    {
      "cell_type": "code",
      "execution_count": null,
      "metadata": {
        "id": "giBGFwKJfXqi"
      },
      "outputs": [],
      "source": [
        "!pip install --upgrade --quiet pip setuptools\n",
        "# !sudo apt-get install libcairo-dev\n",
        "!pip install --upgrade git+https://github.com/0xmaddie/kibitz"
      ]
    },
    {
      "cell_type": "code",
      "source": [
        "from kibitz import Codec, prompt, transformer\n",
        "import numpy as np\n",
        "\n",
        "codec = Codec([\"a\", \"c\", \"g\", \"t\"])\n",
        "for token in codec.tokens:\n",
        "  value = codec.encode(token)\n",
        "  print(f\"{token}={value}\")\n",
        "\n",
        "prng_seed = np.random.randint(0, 16**2)\n",
        "response = prompt(\n",
        "    model=transformer,\n",
        "    param=[],\n",
        "    codec=codec,\n",
        "    gas=8**2,\n",
        "    prng_seed=prng_seed\n",
        ")\n",
        "print(f\"continuation={response.continuation}\")"
      ],
      "metadata": {
        "id": "ILICTkj-Rgkn"
      },
      "execution_count": null,
      "outputs": []
    }
  ]
}